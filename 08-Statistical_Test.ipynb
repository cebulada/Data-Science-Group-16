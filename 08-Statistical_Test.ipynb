{
 "cells": [
  {
   "cell_type": "code",
   "execution_count": 1,
   "metadata": {},
   "outputs": [],
   "source": [
    "import os\n",
    "import pandas as pd\n",
    "import numpy as np\n",
    "from IPython.display import display\n",
    "\n",
    "cwd = os.getcwd()"
   ]
  },
  {
   "cell_type": "code",
   "execution_count": 2,
   "metadata": {},
   "outputs": [
    {
     "data": {
      "text/html": [
       "<div>\n",
       "<style scoped>\n",
       "    .dataframe tbody tr th:only-of-type {\n",
       "        vertical-align: middle;\n",
       "    }\n",
       "\n",
       "    .dataframe tbody tr th {\n",
       "        vertical-align: top;\n",
       "    }\n",
       "\n",
       "    .dataframe thead th {\n",
       "        text-align: right;\n",
       "    }\n",
       "</style>\n",
       "<table border=\"1\" class=\"dataframe\">\n",
       "  <thead>\n",
       "    <tr style=\"text-align: right;\">\n",
       "      <th></th>\n",
       "      <th>Start Year</th>\n",
       "      <th>Start Month</th>\n",
       "      <th>Start Day</th>\n",
       "      <th>Start Hour</th>\n",
       "      <th>User Type</th>\n",
       "      <th>Gender</th>\n",
       "      <th>Duration_Seconds_SUM</th>\n",
       "      <th>Duration_Seconds_COUNT</th>\n",
       "      <th>Station_Distance_SUM</th>\n",
       "      <th>Station_Distance_COUNT</th>\n",
       "    </tr>\n",
       "  </thead>\n",
       "  <tbody>\n",
       "    <tr>\n",
       "      <th>0</th>\n",
       "      <td>2017</td>\n",
       "      <td>1</td>\n",
       "      <td>1</td>\n",
       "      <td>0</td>\n",
       "      <td>Customer</td>\n",
       "      <td>0</td>\n",
       "      <td>188340</td>\n",
       "      <td>114</td>\n",
       "      <td>221436</td>\n",
       "      <td>114</td>\n",
       "    </tr>\n",
       "    <tr>\n",
       "      <th>1</th>\n",
       "      <td>2017</td>\n",
       "      <td>1</td>\n",
       "      <td>1</td>\n",
       "      <td>0</td>\n",
       "      <td>Customer</td>\n",
       "      <td>1</td>\n",
       "      <td>1080</td>\n",
       "      <td>2</td>\n",
       "      <td>2056</td>\n",
       "      <td>2</td>\n",
       "    </tr>\n",
       "    <tr>\n",
       "      <th>2</th>\n",
       "      <td>2017</td>\n",
       "      <td>1</td>\n",
       "      <td>1</td>\n",
       "      <td>0</td>\n",
       "      <td>Customer</td>\n",
       "      <td>2</td>\n",
       "      <td>0</td>\n",
       "      <td>0</td>\n",
       "      <td>1</td>\n",
       "      <td>0</td>\n",
       "    </tr>\n",
       "    <tr>\n",
       "      <th>3</th>\n",
       "      <td>2017</td>\n",
       "      <td>1</td>\n",
       "      <td>1</td>\n",
       "      <td>0</td>\n",
       "      <td>Subscriber</td>\n",
       "      <td>0</td>\n",
       "      <td>1416</td>\n",
       "      <td>6</td>\n",
       "      <td>3246</td>\n",
       "      <td>6</td>\n",
       "    </tr>\n",
       "    <tr>\n",
       "      <th>4</th>\n",
       "      <td>2017</td>\n",
       "      <td>1</td>\n",
       "      <td>1</td>\n",
       "      <td>0</td>\n",
       "      <td>Subscriber</td>\n",
       "      <td>1</td>\n",
       "      <td>346888</td>\n",
       "      <td>450</td>\n",
       "      <td>836554</td>\n",
       "      <td>450</td>\n",
       "    </tr>\n",
       "  </tbody>\n",
       "</table>\n",
       "</div>"
      ],
      "text/plain": [
       "   Start Year  Start Month  Start Day  Start Hour   User Type  Gender  \\\n",
       "0        2017            1          1           0    Customer       0   \n",
       "1        2017            1          1           0    Customer       1   \n",
       "2        2017            1          1           0    Customer       2   \n",
       "3        2017            1          1           0  Subscriber       0   \n",
       "4        2017            1          1           0  Subscriber       1   \n",
       "\n",
       "   Duration_Seconds_SUM  Duration_Seconds_COUNT  Station_Distance_SUM  \\\n",
       "0                188340                     114                221436   \n",
       "1                  1080                       2                  2056   \n",
       "2                     0                       0                     1   \n",
       "3                  1416                       6                  3246   \n",
       "4                346888                     450                836554   \n",
       "\n",
       "   Station_Distance_COUNT  \n",
       "0                     114  \n",
       "1                       2  \n",
       "2                       0  \n",
       "3                       6  \n",
       "4                     450  "
      ]
     },
     "execution_count": 2,
     "metadata": {},
     "output_type": "execute_result"
    }
   ],
   "source": [
    "# read in preaggregated csv file\n",
    "df_agg = pd.read_csv(os.path.join(cwd,\n",
    "                          \"Citibike_Aggregate\",\n",
    "                          \"GroupBy_Year_Month_Day_Hour_User_Gender_Seconds_Distance.csv\"))\n",
    "\n",
    "df_agg.head()"
   ]
  },
  {
   "cell_type": "code",
   "execution_count": 3,
   "metadata": {},
   "outputs": [
    {
     "data": {
      "text/html": [
       "<div>\n",
       "<style scoped>\n",
       "    .dataframe tbody tr th:only-of-type {\n",
       "        vertical-align: middle;\n",
       "    }\n",
       "\n",
       "    .dataframe tbody tr th {\n",
       "        vertical-align: top;\n",
       "    }\n",
       "\n",
       "    .dataframe thead th {\n",
       "        text-align: right;\n",
       "    }\n",
       "</style>\n",
       "<table border=\"1\" class=\"dataframe\">\n",
       "  <thead>\n",
       "    <tr style=\"text-align: right;\">\n",
       "      <th></th>\n",
       "      <th>Gender</th>\n",
       "      <th>Duration_Seconds_SUM</th>\n",
       "    </tr>\n",
       "  </thead>\n",
       "  <tbody>\n",
       "    <tr>\n",
       "      <th>0</th>\n",
       "      <td>0</td>\n",
       "      <td>188340</td>\n",
       "    </tr>\n",
       "    <tr>\n",
       "      <th>1</th>\n",
       "      <td>1</td>\n",
       "      <td>1080</td>\n",
       "    </tr>\n",
       "    <tr>\n",
       "      <th>2</th>\n",
       "      <td>2</td>\n",
       "      <td>0</td>\n",
       "    </tr>\n",
       "    <tr>\n",
       "      <th>3</th>\n",
       "      <td>0</td>\n",
       "      <td>1416</td>\n",
       "    </tr>\n",
       "    <tr>\n",
       "      <th>4</th>\n",
       "      <td>1</td>\n",
       "      <td>346888</td>\n",
       "    </tr>\n",
       "    <tr>\n",
       "      <th>...</th>\n",
       "      <td>...</td>\n",
       "      <td>...</td>\n",
       "    </tr>\n",
       "    <tr>\n",
       "      <th>160699</th>\n",
       "      <td>1</td>\n",
       "      <td>212516</td>\n",
       "    </tr>\n",
       "    <tr>\n",
       "      <th>160700</th>\n",
       "      <td>2</td>\n",
       "      <td>19283</td>\n",
       "    </tr>\n",
       "    <tr>\n",
       "      <th>160701</th>\n",
       "      <td>0</td>\n",
       "      <td>7550</td>\n",
       "    </tr>\n",
       "    <tr>\n",
       "      <th>160702</th>\n",
       "      <td>1</td>\n",
       "      <td>182871</td>\n",
       "    </tr>\n",
       "    <tr>\n",
       "      <th>160703</th>\n",
       "      <td>2</td>\n",
       "      <td>57527</td>\n",
       "    </tr>\n",
       "  </tbody>\n",
       "</table>\n",
       "<p>160704 rows × 2 columns</p>\n",
       "</div>"
      ],
      "text/plain": [
       "        Gender  Duration_Seconds_SUM\n",
       "0            0                188340\n",
       "1            1                  1080\n",
       "2            2                     0\n",
       "3            0                  1416\n",
       "4            1                346888\n",
       "...        ...                   ...\n",
       "160699       1                212516\n",
       "160700       2                 19283\n",
       "160701       0                  7550\n",
       "160702       1                182871\n",
       "160703       2                 57527\n",
       "\n",
       "[160704 rows x 2 columns]"
      ]
     },
     "execution_count": 3,
     "metadata": {},
     "output_type": "execute_result"
    }
   ],
   "source": [
    "df_agg_gender = df_agg.drop(['Start Year','Start Month','Start Day','Start Hour', 'User Type','Duration_Seconds_COUNT','Station_Distance_SUM','Station_Distance_COUNT'], axis = 1)\n",
    "\n",
    "df_agg_gender"
   ]
  },
  {
   "cell_type": "code",
   "execution_count": 4,
   "metadata": {},
   "outputs": [],
   "source": [
    "## Import the packages\n",
    "from scipy import stats\n",
    "import random\n",
    "\n",
    "#Sampling\n",
    "#Women's duration seconds list\n",
    "\n",
    "df_agg_women = df_agg_gender[(df_agg_gender.Gender == 1)]\n",
    "\n",
    "women_bike_duration_list_all = df_agg_women['Duration_Seconds_SUM'].to_list()\n",
    "\n",
    "women_bike_duration_list = random.sample(women_bike_duration_list_all, 1000)\n",
    "\n",
    "#print(women_bike_duration_list)\n",
    "\n",
    "#Men's duration seconds list\n",
    "\n",
    "df_agg_men = df_agg_gender[(df_agg_gender.Gender == 2)]\n",
    "\n",
    "men_bike_duration_list_all = df_agg_men['Duration_Seconds_SUM'].to_list()\n",
    "\n",
    "men_bike_duration_list = random.sample(men_bike_duration_list_all, 1000)\n",
    "\n",
    "#print(men_bike_duration_list)"
   ]
  },
  {
   "cell_type": "code",
   "execution_count": 5,
   "metadata": {},
   "outputs": [
    {
     "name": "stdout",
     "output_type": "stream",
     "text": [
      "{'women mean': 577285.368, 'men mean': 241169.241}\n"
     ]
    }
   ],
   "source": [
    "# calculate means and standard deviations\n",
    "\n",
    "mean_women = np.mean(women_bike_duration_list)\n",
    "mean_men = np.mean(men_bike_duration_list)\n",
    "\n",
    "#print(mean_women, mean_men)\n",
    "\n",
    "print({\"women mean\":mean_women,\"men mean\":mean_men})"
   ]
  },
  {
   "cell_type": "code",
   "execution_count": 6,
   "metadata": {},
   "outputs": [
    {
     "name": "stdout",
     "output_type": "stream",
     "text": [
      "{'women standard deviation': 908245.6403714948, 'men standard deviation': 406969.1055755767}\n"
     ]
    }
   ],
   "source": [
    "#calculate standard deviations\n",
    "std_women = np.std(women_bike_duration_list)\n",
    "std_men = np.std(men_bike_duration_list)\n",
    "\n",
    "print({\"women standard deviation\":std_women, \"men standard deviation\":std_men})"
   ]
  },
  {
   "cell_type": "code",
   "execution_count": 7,
   "metadata": {},
   "outputs": [
    {
     "name": "stdout",
     "output_type": "stream",
     "text": [
      "{'women standard error': 28721.24898492102, 'men standard error': 12869.49310940353}\n"
     ]
    }
   ],
   "source": [
    "# calculate standard errors\n",
    "\n",
    "n1 = len(women_bike_duration_list)\n",
    "n2 = len(men_bike_duration_list)\n",
    "\n",
    "se_women = std_women/np.sqrt(n1)\n",
    "se_men = std_men/np.sqrt(n2)\n",
    "\n",
    "print({\"women standard error\":se_women, \"men standard error\":se_men})"
   ]
  },
  {
   "cell_type": "code",
   "execution_count": 8,
   "metadata": {},
   "outputs": [
    {
     "data": {
      "text/plain": [
       "31472.750056943096"
      ]
     },
     "execution_count": 8,
     "metadata": {},
     "output_type": "execute_result"
    }
   ],
   "source": [
    "# standard error on the difference between the samples\n",
    "sed = np.sqrt(se_women**2.0 + se_men**2.0)\n",
    "\n",
    "sed"
   ]
  },
  {
   "cell_type": "code",
   "execution_count": 9,
   "metadata": {},
   "outputs": [
    {
     "name": "stdout",
     "output_type": "stream",
     "text": [
      "{'t value for duration seconds': 10.679591913381289}\n"
     ]
    }
   ],
   "source": [
    "# calculate the t statistic\n",
    "t_stat = (mean_women - mean_men) / sed\n",
    "\n",
    "print({\"t value for duration seconds\":t_stat})"
   ]
  },
  {
   "cell_type": "code",
   "execution_count": 10,
   "metadata": {},
   "outputs": [
    {
     "data": {
      "text/html": [
       "<div>\n",
       "<style scoped>\n",
       "    .dataframe tbody tr th:only-of-type {\n",
       "        vertical-align: middle;\n",
       "    }\n",
       "\n",
       "    .dataframe tbody tr th {\n",
       "        vertical-align: top;\n",
       "    }\n",
       "\n",
       "    .dataframe thead th {\n",
       "        text-align: right;\n",
       "    }\n",
       "</style>\n",
       "<table border=\"1\" class=\"dataframe\">\n",
       "  <thead>\n",
       "    <tr style=\"text-align: right;\">\n",
       "      <th></th>\n",
       "      <th>Gender</th>\n",
       "      <th>Station_Distance_SUM</th>\n",
       "    </tr>\n",
       "  </thead>\n",
       "  <tbody>\n",
       "    <tr>\n",
       "      <th>0</th>\n",
       "      <td>0</td>\n",
       "      <td>221436</td>\n",
       "    </tr>\n",
       "    <tr>\n",
       "      <th>1</th>\n",
       "      <td>1</td>\n",
       "      <td>2056</td>\n",
       "    </tr>\n",
       "    <tr>\n",
       "      <th>2</th>\n",
       "      <td>2</td>\n",
       "      <td>1</td>\n",
       "    </tr>\n",
       "    <tr>\n",
       "      <th>3</th>\n",
       "      <td>0</td>\n",
       "      <td>3246</td>\n",
       "    </tr>\n",
       "    <tr>\n",
       "      <th>4</th>\n",
       "      <td>1</td>\n",
       "      <td>836554</td>\n",
       "    </tr>\n",
       "  </tbody>\n",
       "</table>\n",
       "</div>"
      ],
      "text/plain": [
       "   Gender  Station_Distance_SUM\n",
       "0       0                221436\n",
       "1       1                  2056\n",
       "2       2                     1\n",
       "3       0                  3246\n",
       "4       1                836554"
      ]
     },
     "execution_count": 10,
     "metadata": {},
     "output_type": "execute_result"
    }
   ],
   "source": [
    "#station distance:\n",
    "\n",
    "df_agg_gender_dis = df_agg.drop(['Start Year','Start Month','Start Day','Start Hour', 'User Type','Duration_Seconds_COUNT','Duration_Seconds_SUM','Station_Distance_COUNT'], axis = 1)\n",
    "\n",
    "df_agg_gender_dis.head()"
   ]
  },
  {
   "cell_type": "code",
   "execution_count": 11,
   "metadata": {},
   "outputs": [],
   "source": [
    "## Import the packages\n",
    "from scipy import stats\n",
    "\n",
    "#Sampling\n",
    "#Women's station distance list\n",
    "\n",
    "df_agg_women_dis = df_agg_gender_dis[(df_agg_gender.Gender == 1)]\n",
    "\n",
    "women_station_dis_list_all = df_agg_women_dis['Station_Distance_SUM'].to_list()\n",
    "\n",
    "women_station_dis_list = random.sample(women_station_dis_list_all,1000)\n",
    "\n",
    "#print(women_station_dis_list)\n",
    "\n",
    "#Women's station distance list\n",
    "\n",
    "df_agg_men_dis = df_agg_gender_dis[(df_agg_gender.Gender == 2)]\n",
    "\n",
    "men_station_dis_list_all = df_agg_men_dis['Station_Distance_SUM'].to_list()\n",
    "\n",
    "men_station_dis_list = random.sample(men_station_dis_list_all,1000)\n",
    "\n",
    "#print(men_station_dis_list)"
   ]
  },
  {
   "cell_type": "code",
   "execution_count": 12,
   "metadata": {},
   "outputs": [
    {
     "name": "stdout",
     "output_type": "stream",
     "text": [
      "{'women mean dis': 1181226.148, 'men mean dis': 438983.049}\n"
     ]
    }
   ],
   "source": [
    "# calculate means and standard deviations\n",
    "\n",
    "mean_women_dis = np.mean(women_station_dis_list)\n",
    "mean_men_dis = np.mean(men_station_dis_list)\n",
    "\n",
    "\n",
    "print({\"women mean dis\":mean_women_dis,\"men mean dis\":mean_men_dis})"
   ]
  },
  {
   "cell_type": "code",
   "execution_count": 13,
   "metadata": {},
   "outputs": [
    {
     "name": "stdout",
     "output_type": "stream",
     "text": [
      "{'women standard deviation dis': 1865327.2285212688, 'men standard deviation': 746323.0893064709}\n"
     ]
    }
   ],
   "source": [
    "#calculate standard deviations\n",
    "std_women_dis = np.std(women_station_dis_list)\n",
    "std_men_dis = np.std(men_station_dis_list)\n",
    "\n",
    "print({\"women standard deviation dis\":std_women_dis, \"men standard deviation\":std_men_dis})"
   ]
  },
  {
   "cell_type": "code",
   "execution_count": 14,
   "metadata": {},
   "outputs": [
    {
     "name": "stdout",
     "output_type": "stream",
     "text": [
      "{'women standard error dis': 58986.826236566056, 'men standard error dis': 23600.808325817034}\n"
     ]
    }
   ],
   "source": [
    "# calculate standard errors\n",
    "\n",
    "n3 = len(women_station_dis_list)\n",
    "n4 = len(men_station_dis_list)\n",
    "\n",
    "se_women_dis = std_women_dis/np.sqrt(n3)\n",
    "se_men_dis = std_men_dis/np.sqrt(n4)\n",
    "\n",
    "print({\"women standard error dis\":se_women_dis, \"men standard error dis\":se_men_dis})"
   ]
  },
  {
   "cell_type": "code",
   "execution_count": 15,
   "metadata": {},
   "outputs": [
    {
     "data": {
      "text/plain": [
       "63533.01364719599"
      ]
     },
     "execution_count": 15,
     "metadata": {},
     "output_type": "execute_result"
    }
   ],
   "source": [
    "# standard error on the difference between the samples\n",
    "sed_dis = np.sqrt(se_women_dis**2.0 + se_men_dis**2.0)\n",
    "\n",
    "sed_dis"
   ]
  },
  {
   "cell_type": "code",
   "execution_count": 16,
   "metadata": {},
   "outputs": [
    {
     "name": "stdout",
     "output_type": "stream",
     "text": [
      "{'t value for station distance': 11.682793816797933}\n"
     ]
    }
   ],
   "source": [
    "# calculate the t statistic\n",
    "t_stat_dis = (mean_women_dis - mean_men_dis) / sed_dis\n",
    "\n",
    "t_stat_dis\n",
    "\n",
    "print({\"t value for station distance\":t_stat_dis})"
   ]
  },
  {
   "cell_type": "code",
   "execution_count": 17,
   "metadata": {},
   "outputs": [],
   "source": [
    "#Conclusion\n",
    "\n",
    "#Null Hypothesis: The data for duration time periods and distances between stations have the same distribution regardless of the gender. \n",
    "#Alternative Hypothesis: The data for duration time periods and distances between stations have different distributions for women and men.\n",
    "\n",
    "#The null hypothesis is rejcted for both datasets because both T values are much larger than 0.\n"
   ]
  }
 ],
 "metadata": {
  "kernelspec": {
   "display_name": "Python 3",
   "language": "python",
   "name": "python3"
  },
  "language_info": {
   "codemirror_mode": {
    "name": "ipython",
    "version": 3
   },
   "file_extension": ".py",
   "mimetype": "text/x-python",
   "name": "python",
   "nbconvert_exporter": "python",
   "pygments_lexer": "ipython3",
   "version": "3.7.6"
  }
 },
 "nbformat": 4,
 "nbformat_minor": 4
}
