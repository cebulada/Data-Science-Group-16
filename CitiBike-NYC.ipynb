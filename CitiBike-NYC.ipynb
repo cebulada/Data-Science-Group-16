{
 "cells": [
  {
   "cell_type": "code",
   "execution_count": 1,
   "metadata": {},
   "outputs": [],
   "source": [
    "# DEPENDENCIES\n",
    "import pandas as pd\n",
    "import numpy as np\n",
    "import matplotlib.pyplot as plt\n",
    "%matplotlib inline\n",
    "import os"
   ]
  },
  {
   "cell_type": "code",
   "execution_count": 2,
   "metadata": {},
   "outputs": [
    {
     "data": {
      "text/html": [
       "<div>\n",
       "<style scoped>\n",
       "    .dataframe tbody tr th:only-of-type {\n",
       "        vertical-align: middle;\n",
       "    }\n",
       "\n",
       "    .dataframe tbody tr th {\n",
       "        vertical-align: top;\n",
       "    }\n",
       "\n",
       "    .dataframe thead th {\n",
       "        text-align: right;\n",
       "    }\n",
       "</style>\n",
       "<table border=\"1\" class=\"dataframe\">\n",
       "  <thead>\n",
       "    <tr style=\"text-align: right;\">\n",
       "      <th></th>\n",
       "      <th>tripduration</th>\n",
       "      <th>starttime</th>\n",
       "      <th>stoptime</th>\n",
       "      <th>start station id</th>\n",
       "      <th>start station name</th>\n",
       "      <th>start station latitude</th>\n",
       "      <th>start station longitude</th>\n",
       "      <th>end station id</th>\n",
       "      <th>end station name</th>\n",
       "      <th>end station latitude</th>\n",
       "      <th>end station longitude</th>\n",
       "      <th>bikeid</th>\n",
       "      <th>usertype</th>\n",
       "      <th>birth year</th>\n",
       "      <th>gender</th>\n",
       "    </tr>\n",
       "  </thead>\n",
       "  <tbody>\n",
       "    <tr>\n",
       "      <th>0</th>\n",
       "      <td>1202</td>\n",
       "      <td>8/1/2015 00:00:04</td>\n",
       "      <td>8/1/2015 00:20:07</td>\n",
       "      <td>168</td>\n",
       "      <td>W 18 St &amp; 6 Ave</td>\n",
       "      <td>40.739713</td>\n",
       "      <td>-73.994564</td>\n",
       "      <td>385</td>\n",
       "      <td>E 55 St &amp; 2 Ave</td>\n",
       "      <td>40.757973</td>\n",
       "      <td>-73.966033</td>\n",
       "      <td>23253</td>\n",
       "      <td>Subscriber</td>\n",
       "      <td>1987.0</td>\n",
       "      <td>1</td>\n",
       "    </tr>\n",
       "    <tr>\n",
       "      <th>1</th>\n",
       "      <td>301</td>\n",
       "      <td>8/1/2015 00:00:05</td>\n",
       "      <td>8/1/2015 00:05:06</td>\n",
       "      <td>450</td>\n",
       "      <td>W 49 St &amp; 8 Ave</td>\n",
       "      <td>40.762272</td>\n",
       "      <td>-73.987882</td>\n",
       "      <td>479</td>\n",
       "      <td>9 Ave &amp; W 45 St</td>\n",
       "      <td>40.760193</td>\n",
       "      <td>-73.991255</td>\n",
       "      <td>22675</td>\n",
       "      <td>Subscriber</td>\n",
       "      <td>1951.0</td>\n",
       "      <td>2</td>\n",
       "    </tr>\n",
       "    <tr>\n",
       "      <th>2</th>\n",
       "      <td>431</td>\n",
       "      <td>8/1/2015 00:00:06</td>\n",
       "      <td>8/1/2015 00:07:18</td>\n",
       "      <td>312</td>\n",
       "      <td>Allen St &amp; E Houston St</td>\n",
       "      <td>40.722055</td>\n",
       "      <td>-73.989111</td>\n",
       "      <td>296</td>\n",
       "      <td>Division St &amp; Bowery</td>\n",
       "      <td>40.714131</td>\n",
       "      <td>-73.997047</td>\n",
       "      <td>19831</td>\n",
       "      <td>Subscriber</td>\n",
       "      <td>1985.0</td>\n",
       "      <td>1</td>\n",
       "    </tr>\n",
       "    <tr>\n",
       "      <th>3</th>\n",
       "      <td>273</td>\n",
       "      <td>8/1/2015 00:00:09</td>\n",
       "      <td>8/1/2015 00:04:43</td>\n",
       "      <td>382</td>\n",
       "      <td>University Pl &amp; E 14 St</td>\n",
       "      <td>40.734927</td>\n",
       "      <td>-73.992005</td>\n",
       "      <td>229</td>\n",
       "      <td>Great Jones St</td>\n",
       "      <td>40.727434</td>\n",
       "      <td>-73.993790</td>\n",
       "      <td>22765</td>\n",
       "      <td>Subscriber</td>\n",
       "      <td>1975.0</td>\n",
       "      <td>1</td>\n",
       "    </tr>\n",
       "    <tr>\n",
       "      <th>4</th>\n",
       "      <td>1256</td>\n",
       "      <td>8/1/2015 00:00:17</td>\n",
       "      <td>8/1/2015 00:21:13</td>\n",
       "      <td>352</td>\n",
       "      <td>W 56 St &amp; 6 Ave</td>\n",
       "      <td>40.763406</td>\n",
       "      <td>-73.977225</td>\n",
       "      <td>432</td>\n",
       "      <td>E 7 St &amp; Avenue A</td>\n",
       "      <td>40.726218</td>\n",
       "      <td>-73.983799</td>\n",
       "      <td>22127</td>\n",
       "      <td>Subscriber</td>\n",
       "      <td>1978.0</td>\n",
       "      <td>1</td>\n",
       "    </tr>\n",
       "  </tbody>\n",
       "</table>\n",
       "</div>"
      ],
      "text/plain": [
       "   tripduration          starttime           stoptime  start station id  \\\n",
       "0          1202  8/1/2015 00:00:04  8/1/2015 00:20:07               168   \n",
       "1           301  8/1/2015 00:00:05  8/1/2015 00:05:06               450   \n",
       "2           431  8/1/2015 00:00:06  8/1/2015 00:07:18               312   \n",
       "3           273  8/1/2015 00:00:09  8/1/2015 00:04:43               382   \n",
       "4          1256  8/1/2015 00:00:17  8/1/2015 00:21:13               352   \n",
       "\n",
       "        start station name  start station latitude  start station longitude  \\\n",
       "0          W 18 St & 6 Ave               40.739713               -73.994564   \n",
       "1          W 49 St & 8 Ave               40.762272               -73.987882   \n",
       "2  Allen St & E Houston St               40.722055               -73.989111   \n",
       "3  University Pl & E 14 St               40.734927               -73.992005   \n",
       "4          W 56 St & 6 Ave               40.763406               -73.977225   \n",
       "\n",
       "   end station id      end station name  end station latitude  \\\n",
       "0             385       E 55 St & 2 Ave             40.757973   \n",
       "1             479       9 Ave & W 45 St             40.760193   \n",
       "2             296  Division St & Bowery             40.714131   \n",
       "3             229        Great Jones St             40.727434   \n",
       "4             432     E 7 St & Avenue A             40.726218   \n",
       "\n",
       "   end station longitude  bikeid    usertype  birth year  gender  \n",
       "0             -73.966033   23253  Subscriber      1987.0       1  \n",
       "1             -73.991255   22675  Subscriber      1951.0       2  \n",
       "2             -73.997047   19831  Subscriber      1985.0       1  \n",
       "3             -73.993790   22765  Subscriber      1975.0       1  \n",
       "4             -73.983799   22127  Subscriber      1978.0       1  "
      ]
     },
     "execution_count": 2,
     "metadata": {},
     "output_type": "execute_result"
    }
   ],
   "source": [
    "df = pd.read_csv(\"./data/201508-citibike-tripdata.csv\")\n",
    "df.head()"
   ]
  },
  {
   "cell_type": "code",
   "execution_count": 3,
   "metadata": {},
   "outputs": [
    {
     "name": "stdout",
     "output_type": "stream",
     "text": [
      "<class 'pandas.core.frame.DataFrame'>\n",
      "RangeIndex: 1179044 entries, 0 to 1179043\n",
      "Data columns (total 15 columns):\n",
      " #   Column                   Non-Null Count    Dtype  \n",
      "---  ------                   --------------    -----  \n",
      " 0   tripduration             1179044 non-null  int64  \n",
      " 1   starttime                1179044 non-null  object \n",
      " 2   stoptime                 1179044 non-null  object \n",
      " 3   start station id         1179044 non-null  int64  \n",
      " 4   start station name       1179044 non-null  object \n",
      " 5   start station latitude   1179044 non-null  float64\n",
      " 6   start station longitude  1179044 non-null  float64\n",
      " 7   end station id           1179044 non-null  int64  \n",
      " 8   end station name         1179044 non-null  object \n",
      " 9   end station latitude     1179044 non-null  float64\n",
      " 10  end station longitude    1179044 non-null  float64\n",
      " 11  bikeid                   1179044 non-null  int64  \n",
      " 12  usertype                 1179044 non-null  object \n",
      " 13  birth year               958043 non-null   float64\n",
      " 14  gender                   1179044 non-null  int64  \n",
      "dtypes: float64(5), int64(5), object(5)\n",
      "memory usage: 134.9+ MB\n"
     ]
    }
   ],
   "source": [
    "df.info()"
   ]
  },
  {
   "cell_type": "code",
   "execution_count": 4,
   "metadata": {},
   "outputs": [
    {
     "name": "stdout",
     "output_type": "stream",
     "text": [
      "XXXXXX\n",
      " |    |   tripduration | starttime         | stoptime          |   start station id | start station name      |   start station latitude |   start station longitude |   end station id | end station name      |   end station latitude |   end station longitude |   bikeid | usertype   |   birth year |   gender |\n",
      "|---:|---------------:|:------------------|:------------------|-------------------:|:------------------------|-------------------------:|--------------------------:|-----------------:|:----------------------|-----------------------:|------------------------:|---------:|:-----------|-------------:|---------:|\n",
      "|  0 |           1202 | 8/1/2015 00:00:04 | 8/1/2015 00:20:07 |                168 | W 18 St & 6 Ave         |                  40.7397 |                  -73.9946 |              385 | E 55 St & 2 Ave       |                40.758  |                -73.966  |    23253 | Subscriber |         1987 |        1 |\n",
      "|  1 |            301 | 8/1/2015 00:00:05 | 8/1/2015 00:05:06 |                450 | W 49 St & 8 Ave         |                  40.7623 |                  -73.9879 |              479 | 9 Ave & W 45 St       |                40.7602 |                -73.9913 |    22675 | Subscriber |         1951 |        2 |\n",
      "|  2 |            431 | 8/1/2015 00:00:06 | 8/1/2015 00:07:18 |                312 | Allen St & E Houston St |                  40.7221 |                  -73.9891 |              296 | Division St & Bowery  |                40.7141 |                -73.997  |    19831 | Subscriber |         1985 |        1 |\n",
      "|  3 |            273 | 8/1/2015 00:00:09 | 8/1/2015 00:04:43 |                382 | University Pl & E 14 St |                  40.7349 |                  -73.992  |              229 | Great Jones St        |                40.7274 |                -73.9938 |    22765 | Subscriber |         1975 |        1 |\n",
      "|  4 |           1256 | 8/1/2015 00:00:17 | 8/1/2015 00:21:13 |                352 | W 56 St & 6 Ave         |                  40.7634 |                  -73.9772 |              432 | E 7 St & Avenue A     |                40.7262 |                -73.9838 |    22127 | Subscriber |         1978 |        1 |\n",
      "|  5 |            739 | 8/1/2015 00:00:24 | 8/1/2015 00:12:44 |                212 | W 16 St & The High Line |                  40.7433 |                  -74.0068 |              498 | Broadway & W 32 St    |                40.7485 |                -73.9881 |    19293 | Subscriber |         1988 |        1 |\n",
      "|  6 |            433 | 8/1/2015 00:00:30 | 8/1/2015 00:07:43 |                388 | W 26 St & 10 Ave        |                  40.7497 |                  -74.003  |              284 | Greenwich Ave & 8 Ave |                40.739  |                -74.0026 |    19115 | Subscriber |         1976 |        1 |\n",
      "|  7 |           1575 | 8/1/2015 00:00:33 | 8/1/2015 00:26:49 |                492 | W 33 St & 7 Ave         |                  40.7502 |                  -73.9909 |              492 | W 33 St & 7 Ave       |                40.7502 |                -73.9909 |    20532 | Customer   |          nan |        0 |\n",
      "|  8 |            843 | 8/1/2015 00:00:39 | 8/1/2015 00:14:43 |                387 | Centre St & Chambers St |                  40.7127 |                  -74.0046 |              391 | Clark St & Henry St   |                40.6976 |                -73.9934 |    24273 | Customer   |          nan |        0 |\n",
      "|  9 |            467 | 8/1/2015 00:00:49 | 8/1/2015 00:08:37 |                285 | Broadway & E 14 St      |                  40.7345 |                  -73.9907 |              284 | Greenwich Ave & 8 Ave |                40.739  |                -74.0026 |    17688 | Subscriber |         1976 |        1 | \n",
      "XXXXXX\n"
     ]
    }
   ],
   "source": [
    "print(\"XXXXXX\\n\", df.head(10).to_markdown(), \"\\nXXXXXX\")"
   ]
  },
  {
   "cell_type": "code",
   "execution_count": 5,
   "metadata": {},
   "outputs": [
    {
     "data": {
      "image/png": "[encoded data removed]",
      "text/plain": [
       "<Figure size 432x288 with 1 Axes>"
      ]
     },
     "metadata": {
      "needs_background": "light"
     },
     "output_type": "display_data"
    }
   ],
   "source": [
    "# an example plot where time series analysis can be done\n",
    "plt.plot(df.index, df[\"tripduration\"]);"
   ]
  }
 ],
 "metadata": {
  "kernelspec": {
   "display_name": "Python 3",
   "language": "python",
   "name": "python3"
  },
  "language_info": {
   "codemirror_mode": {
    "name": "ipython",
    "version": 3
   },
   "file_extension": ".py",
   "mimetype": "text/x-python",
   "name": "python",
   "nbconvert_exporter": "python",
   "pygments_lexer": "ipython3",
   "version": "3.7.6"
  }
 },
 "nbformat": 4,
 "nbformat_minor": 4
}
