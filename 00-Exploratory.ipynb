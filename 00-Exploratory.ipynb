{
 "cells": [
  {
   "cell_type": "code",
   "execution_count": 1,
   "metadata": {},
   "outputs": [],
   "source": [
    "# DEPENDENCIES\n",
    "import pandas as pd\n",
    "import numpy as np\n",
    "import matplotlib.pyplot as plt\n",
    "%matplotlib inline\n",
    "import os\n",
    "\n",
    "cwd = os.getcwd()"
   ]
  },
  {
   "cell_type": "markdown",
   "metadata": {},
   "source": [
    "# Preliminary Look at Citibike New York City Data\n",
    "\n",
    "- One can find the system-data at the following [link](https://www.citibikenyc.com/system-data)\n",
    "    - [S3 Amazon Bucket](https://s3.amazonaws.com/tripdata/index.html)"
   ]
  },
  {
   "cell_type": "code",
   "execution_count": 2,
   "metadata": {},
   "outputs": [
    {
     "data": {
      "text/html": [
       "<div>\n",
       "<style scoped>\n",
       "    .dataframe tbody tr th:only-of-type {\n",
       "        vertical-align: middle;\n",
       "    }\n",
       "\n",
       "    .dataframe tbody tr th {\n",
       "        vertical-align: top;\n",
       "    }\n",
       "\n",
       "    .dataframe thead th {\n",
       "        text-align: right;\n",
       "    }\n",
       "</style>\n",
       "<table border=\"1\" class=\"dataframe\">\n",
       "  <thead>\n",
       "    <tr style=\"text-align: right;\">\n",
       "      <th></th>\n",
       "      <th>Trip Duration</th>\n",
       "      <th>Start Time</th>\n",
       "      <th>Stop Time</th>\n",
       "      <th>Start Station ID</th>\n",
       "      <th>Start Station Name</th>\n",
       "      <th>Start Station Latitude</th>\n",
       "      <th>Start Station Longitude</th>\n",
       "      <th>End Station ID</th>\n",
       "      <th>End Station Name</th>\n",
       "      <th>End Station Latitude</th>\n",
       "      <th>End Station Longitude</th>\n",
       "      <th>Bike ID</th>\n",
       "      <th>User Type</th>\n",
       "      <th>Birth Year</th>\n",
       "      <th>Gender</th>\n",
       "    </tr>\n",
       "  </thead>\n",
       "  <tbody>\n",
       "    <tr>\n",
       "      <th>0</th>\n",
       "      <td>680</td>\n",
       "      <td>2017-01-01 00:00:21</td>\n",
       "      <td>2017-01-01 00:11:41</td>\n",
       "      <td>3226</td>\n",
       "      <td>W 82 St &amp; Central Park West</td>\n",
       "      <td>40.782750</td>\n",
       "      <td>-73.971370</td>\n",
       "      <td>3165</td>\n",
       "      <td>Central Park West &amp; W 72 St</td>\n",
       "      <td>40.775794</td>\n",
       "      <td>-73.976206</td>\n",
       "      <td>25542</td>\n",
       "      <td>Subscriber</td>\n",
       "      <td>1965.0</td>\n",
       "      <td>2</td>\n",
       "    </tr>\n",
       "    <tr>\n",
       "      <th>1</th>\n",
       "      <td>1282</td>\n",
       "      <td>2017-01-01 00:00:45</td>\n",
       "      <td>2017-01-01 00:22:08</td>\n",
       "      <td>3263</td>\n",
       "      <td>Cooper Square &amp; E 7 St</td>\n",
       "      <td>40.729236</td>\n",
       "      <td>-73.990868</td>\n",
       "      <td>498</td>\n",
       "      <td>Broadway &amp; W 32 St</td>\n",
       "      <td>40.748549</td>\n",
       "      <td>-73.988084</td>\n",
       "      <td>21136</td>\n",
       "      <td>Subscriber</td>\n",
       "      <td>1987.0</td>\n",
       "      <td>2</td>\n",
       "    </tr>\n",
       "    <tr>\n",
       "      <th>2</th>\n",
       "      <td>648</td>\n",
       "      <td>2017-01-01 00:00:57</td>\n",
       "      <td>2017-01-01 00:11:46</td>\n",
       "      <td>3143</td>\n",
       "      <td>5 Ave &amp; E 78 St</td>\n",
       "      <td>40.776829</td>\n",
       "      <td>-73.963888</td>\n",
       "      <td>3152</td>\n",
       "      <td>3 Ave &amp; E 71 St</td>\n",
       "      <td>40.768737</td>\n",
       "      <td>-73.961199</td>\n",
       "      <td>18147</td>\n",
       "      <td>Customer</td>\n",
       "      <td>NaN</td>\n",
       "      <td>0</td>\n",
       "    </tr>\n",
       "    <tr>\n",
       "      <th>3</th>\n",
       "      <td>631</td>\n",
       "      <td>2017-01-01 00:01:10</td>\n",
       "      <td>2017-01-01 00:11:42</td>\n",
       "      <td>3143</td>\n",
       "      <td>5 Ave &amp; E 78 St</td>\n",
       "      <td>40.776829</td>\n",
       "      <td>-73.963888</td>\n",
       "      <td>3152</td>\n",
       "      <td>3 Ave &amp; E 71 St</td>\n",
       "      <td>40.768737</td>\n",
       "      <td>-73.961199</td>\n",
       "      <td>21211</td>\n",
       "      <td>Customer</td>\n",
       "      <td>NaN</td>\n",
       "      <td>0</td>\n",
       "    </tr>\n",
       "    <tr>\n",
       "      <th>4</th>\n",
       "      <td>621</td>\n",
       "      <td>2017-01-01 00:01:25</td>\n",
       "      <td>2017-01-01 00:11:47</td>\n",
       "      <td>3143</td>\n",
       "      <td>5 Ave &amp; E 78 St</td>\n",
       "      <td>40.776829</td>\n",
       "      <td>-73.963888</td>\n",
       "      <td>3152</td>\n",
       "      <td>3 Ave &amp; E 71 St</td>\n",
       "      <td>40.768737</td>\n",
       "      <td>-73.961199</td>\n",
       "      <td>26819</td>\n",
       "      <td>Customer</td>\n",
       "      <td>NaN</td>\n",
       "      <td>0</td>\n",
       "    </tr>\n",
       "  </tbody>\n",
       "</table>\n",
       "</div>"
      ],
      "text/plain": [
       "   Trip Duration           Start Time            Stop Time  Start Station ID  \\\n",
       "0            680  2017-01-01 00:00:21  2017-01-01 00:11:41              3226   \n",
       "1           1282  2017-01-01 00:00:45  2017-01-01 00:22:08              3263   \n",
       "2            648  2017-01-01 00:00:57  2017-01-01 00:11:46              3143   \n",
       "3            631  2017-01-01 00:01:10  2017-01-01 00:11:42              3143   \n",
       "4            621  2017-01-01 00:01:25  2017-01-01 00:11:47              3143   \n",
       "\n",
       "            Start Station Name  Start Station Latitude  \\\n",
       "0  W 82 St & Central Park West               40.782750   \n",
       "1       Cooper Square & E 7 St               40.729236   \n",
       "2              5 Ave & E 78 St               40.776829   \n",
       "3              5 Ave & E 78 St               40.776829   \n",
       "4              5 Ave & E 78 St               40.776829   \n",
       "\n",
       "   Start Station Longitude  End Station ID             End Station Name  \\\n",
       "0               -73.971370            3165  Central Park West & W 72 St   \n",
       "1               -73.990868             498           Broadway & W 32 St   \n",
       "2               -73.963888            3152              3 Ave & E 71 St   \n",
       "3               -73.963888            3152              3 Ave & E 71 St   \n",
       "4               -73.963888            3152              3 Ave & E 71 St   \n",
       "\n",
       "   End Station Latitude  End Station Longitude  Bike ID   User Type  \\\n",
       "0             40.775794             -73.976206    25542  Subscriber   \n",
       "1             40.748549             -73.988084    21136  Subscriber   \n",
       "2             40.768737             -73.961199    18147    Customer   \n",
       "3             40.768737             -73.961199    21211    Customer   \n",
       "4             40.768737             -73.961199    26819    Customer   \n",
       "\n",
       "   Birth Year  Gender  \n",
       "0      1965.0       2  \n",
       "1      1987.0       2  \n",
       "2         NaN       0  \n",
       "3         NaN       0  \n",
       "4         NaN       0  "
      ]
     },
     "execution_count": 2,
     "metadata": {},
     "output_type": "execute_result"
    }
   ],
   "source": [
    "df = pd.read_csv(os.path.join(cwd, \"Citibike_Data\",\n",
    "                              \"201701-citibike-tripdata.csv.zip\"),\n",
    "                compression=\"zip\")\n",
    "df.head()"
   ]
  },
  {
   "cell_type": "code",
   "execution_count": 3,
   "metadata": {},
   "outputs": [
    {
     "name": "stdout",
     "output_type": "stream",
     "text": [
      "<class 'pandas.core.frame.DataFrame'>\n",
      "RangeIndex: 726676 entries, 0 to 726675\n",
      "Data columns (total 15 columns):\n",
      " #   Column                   Non-Null Count   Dtype  \n",
      "---  ------                   --------------   -----  \n",
      " 0   Trip Duration            726676 non-null  int64  \n",
      " 1   Start Time               726676 non-null  object \n",
      " 2   Stop Time                726676 non-null  object \n",
      " 3   Start Station ID         726676 non-null  int64  \n",
      " 4   Start Station Name       726676 non-null  object \n",
      " 5   Start Station Latitude   726676 non-null  float64\n",
      " 6   Start Station Longitude  726676 non-null  float64\n",
      " 7   End Station ID           726676 non-null  int64  \n",
      " 8   End Station Name         726676 non-null  object \n",
      " 9   End Station Latitude     726676 non-null  float64\n",
      " 10  End Station Longitude    726676 non-null  float64\n",
      " 11  Bike ID                  726676 non-null  int64  \n",
      " 12  User Type                723483 non-null  object \n",
      " 13  Birth Year               697600 non-null  float64\n",
      " 14  Gender                   726676 non-null  int64  \n",
      "dtypes: float64(5), int64(5), object(5)\n",
      "memory usage: 83.2+ MB\n"
     ]
    }
   ],
   "source": [
    "# some information about the data\n",
    "df.info()"
   ]
  },
  {
   "cell_type": "code",
   "execution_count": 4,
   "metadata": {},
   "outputs": [
    {
     "name": "stdout",
     "output_type": "stream",
     "text": [
      "XXXXXX\n",
      " |    |   Trip Duration | Start Time          | Stop Time           |   Start Station ID | Start Station Name          |   Start Station Latitude |   Start Station Longitude |   End Station ID | End Station Name            |   End Station Latitude |   End Station Longitude |   Bike ID | User Type   |   Birth Year |   Gender |\n",
      "|---:|----------------:|:--------------------|:--------------------|-------------------:|:----------------------------|-------------------------:|--------------------------:|-----------------:|:----------------------------|-----------------------:|------------------------:|----------:|:------------|-------------:|---------:|\n",
      "|  0 |             680 | 2017-01-01 00:00:21 | 2017-01-01 00:11:41 |               3226 | W 82 St & Central Park West |                  40.7828 |                  -73.9714 |             3165 | Central Park West & W 72 St |                40.7758 |                -73.9762 |     25542 | Subscriber  |         1965 |        2 |\n",
      "|  1 |            1282 | 2017-01-01 00:00:45 | 2017-01-01 00:22:08 |               3263 | Cooper Square & E 7 St      |                  40.7292 |                  -73.9909 |              498 | Broadway & W 32 St          |                40.7485 |                -73.9881 |     21136 | Subscriber  |         1987 |        2 |\n",
      "|  2 |             648 | 2017-01-01 00:00:57 | 2017-01-01 00:11:46 |               3143 | 5 Ave & E 78 St             |                  40.7768 |                  -73.9639 |             3152 | 3 Ave & E 71 St             |                40.7687 |                -73.9612 |     18147 | Customer    |          nan |        0 |\n",
      "|  3 |             631 | 2017-01-01 00:01:10 | 2017-01-01 00:11:42 |               3143 | 5 Ave & E 78 St             |                  40.7768 |                  -73.9639 |             3152 | 3 Ave & E 71 St             |                40.7687 |                -73.9612 |     21211 | Customer    |          nan |        0 |\n",
      "|  4 |             621 | 2017-01-01 00:01:25 | 2017-01-01 00:11:47 |               3143 | 5 Ave & E 78 St             |                  40.7768 |                  -73.9639 |             3152 | 3 Ave & E 71 St             |                40.7687 |                -73.9612 |     26819 | Customer    |          nan |        0 |\n",
      "|  5 |             666 | 2017-01-01 00:01:51 | 2017-01-01 00:12:57 |               3163 | Central Park West & W 68 St |                  40.7734 |                  -73.9778 |             3163 | Central Park West & W 68 St |                40.7734 |                -73.9778 |     16050 | Subscriber  |         2000 |        1 |\n",
      "|  6 |             559 | 2017-01-01 00:05:00 | 2017-01-01 00:14:20 |                499 | Broadway & W 60 St          |                  40.7692 |                  -73.9819 |              479 | 9 Ave & W 45 St             |                40.7602 |                -73.9913 |     27294 | Subscriber  |         1973 |        1 |\n",
      "|  7 |             826 | 2017-01-01 00:05:37 | 2017-01-01 00:19:24 |                362 | Broadway & W 37 St          |                  40.7517 |                  -73.9875 |              445 | E 10 St & Avenue A          |                40.7274 |                -73.9814 |     23288 | Subscriber  |         1977 |        2 |\n",
      "|  8 |             255 | 2017-01-01 00:05:47 | 2017-01-01 00:10:02 |                430 | York St & Jay St            |                  40.7015 |                  -73.9866 |              242 | Carlton Ave & Flushing Ave  |                40.6978 |                -73.9737 |     25041 | Subscriber  |         1989 |        1 |\n",
      "|  9 |             634 | 2017-01-01 00:07:34 | 2017-01-01 00:18:08 |               3165 | Central Park West & W 72 St |                  40.7758 |                  -73.9762 |             3164 | Columbus Ave & W 72 St      |                40.7771 |                -73.979  |     16311 | Subscriber  |         1980 |        1 | \n",
      "XXXXXX\n"
     ]
    }
   ],
   "source": [
    "# get markdown for README.md\n",
    "print(\"XXXXXX\\n\", df.head(10).to_markdown(), \"\\nXXXXXX\")"
   ]
  },
  {
   "cell_type": "code",
   "execution_count": 5,
   "metadata": {},
   "outputs": [
    {
     "data": {
      "image/png": "[encoded data removed]",
      "text/plain": [
       "<Figure size 432x288 with 1 Axes>"
      ]
     },
     "metadata": {
      "needs_background": "light"
     },
     "output_type": "display_data"
    }
   ],
   "source": [
    "# an example plot where time series analysis can be done\n",
    "plt.plot(df.index, df[\"Trip Duration\"]);"
   ]
  }
 ],
 "metadata": {
  "kernelspec": {
   "display_name": "Python 3",
   "language": "python",
   "name": "python3"
  },
  "language_info": {
   "codemirror_mode": {
    "name": "ipython",
    "version": 3
   },
   "file_extension": ".py",
   "mimetype": "text/x-python",
   "name": "python",
   "nbconvert_exporter": "python",
   "pygments_lexer": "ipython3",
   "version": "3.7.6"
  }
 },
 "nbformat": 4,
 "nbformat_minor": 4
}
